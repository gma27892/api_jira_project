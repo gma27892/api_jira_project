{
 "cells": [
  {
   "cell_type": "markdown",
   "metadata": {},
   "source": [
    "## Read credentials from JSON file"
   ]
  },
  {
   "cell_type": "code",
   "execution_count": 2,
   "metadata": {},
   "outputs": [],
   "source": [
    "import json\n",
    "from jira import JIRA, JIRAError\n",
    "import pandas as pd\n",
    "import csv\n",
    "import re\n",
    "from datetime import datetime\n",
    "\n"
   ]
  },
  {
   "cell_type": "code",
   "execution_count": 3,
   "metadata": {},
   "outputs": [],
   "source": [
    "# Reading credentials file JSON\n",
    "with open('credential_jira.json') as f:\n",
    "    credentials = json.load(f)\n",
    "\n",
    "user = credentials['user']\n",
    "password = credentials['apikey']\n",
    "link = credentials['link']\n",
    "project_key = credentials['project_key'] \n"
   ]
  },
  {
   "cell_type": "markdown",
   "metadata": {},
   "source": [
    "## Execute JQL query to obtain info from Jira Project"
   ]
  },
  {
   "cell_type": "code",
   "execution_count": 4,
   "metadata": {},
   "outputs": [
    {
     "name": "stdout",
     "output_type": "stream",
     "text": [
      "Extracting tickets from IBRR Jira project...\n"
     ]
    }
   ],
   "source": [
    "\n",
    "\n",
    "# Jira authentication \n",
    "jira = JIRA(server=link, basic_auth=(user, password))\n",
    "\n",
    "# Querying data using JQL language\n",
    "jql_query = f'project = {project_key} ORDER BY created ASC'\n",
    "\n",
    "# Pagination of all isseus from Jira project\n",
    "block_size = 100\n",
    "block_num = 0\n",
    "\n",
    "# Opening CSV file for writing all issues in there\n",
    "print(f\"Extracting tickets from {project_key} Jira project...\")\n",
    "\n"
   ]
  },
  {
   "cell_type": "code",
   "execution_count": 5,
   "metadata": {},
   "outputs": [
    {
     "name": "stdout",
     "output_type": "stream",
     "text": [
      "1381 tickets were created and written in jira_issues.csv\n"
     ]
    }
   ],
   "source": [
    "with open('jira_issues.csv', mode='w', newline='', encoding='utf-8') as file:\n",
    "    writer = csv.writer(file)\n",
    "\n",
    "    # Writing CSV Column names\n",
    "    writer.writerow([\n",
    "        'key', \n",
    "        'tool_value',\n",
    "        'area',\n",
    "        'sprint',\n",
    "        'summary', \n",
    "        'status', \n",
    "        'assignee', \n",
    "        'reporter', \n",
    "        'created', \n",
    "        'updated', \n",
    "        #'custom_create_date',\n",
    "        #'custom_end_date',\n",
    "        'date_diff_days',\n",
    "        'priority', \n",
    "        'issue_type', \n",
    "        #'labels', \n",
    "        #'comments', \n",
    "    ])\n",
    "\n",
    "    while True:\n",
    "        start_idx = block_num * block_size\n",
    "        try:\n",
    "            issues = jira.search_issues(jql_query, startAt=start_idx, maxResults=block_size, expand='changelog')\n",
    "        except JIRAError as e:\n",
    "            if e.status_code == 404:\n",
    "                print(f\"Ignoring not found tickets {block_num}\")\n",
    "                break  # Quit while if face 404 error\n",
    "            else:\n",
    "                raise  # Rerun exception if error was |= from 404 error\n",
    "        else:\n",
    "            if not issues:\n",
    "                break\n",
    "            for issue in issues:\n",
    "                # RegExing main custom fileds\n",
    "                tool_pattern = r\"value='(.*?)'\"\n",
    "                tool_match = re.search(tool_pattern, str(issue.fields.customfield_11897)) #Tool\n",
    "                tool_value = tool_match.group(1) if tool_match else None\n",
    "\n",
    "                area_pattern = r\"value='(.*?)'\"\n",
    "                area_match = re.search(area_pattern, str(issue.fields.customfield_11896)) #Area\n",
    "                area_value = area_match.group(1) if area_match else None\n",
    "\n",
    "                sprint_field = issue.fields.customfield_10007\n",
    "                if isinstance(sprint_field, list):\n",
    "                    sprint_value = ', '.join([str(sprint) for sprint in sprint_field])\n",
    "                else:\n",
    "                    sprint_value = str(sprint_field)\n",
    "\n",
    "                # Converting dates (Created e Updated) in a date filed\n",
    "                created_date = datetime.strptime(issue.fields.created, \"%Y-%m-%dT%H:%M:%S.%f%z\")\n",
    "                updated_date = datetime.strptime(issue.fields.updated, \"%Y-%m-%dT%H:%M:%S.%f%z\")\n",
    "                date_diff_days = (updated_date - created_date).days\n",
    "\n",
    "                #custom_create_date = datetime.strptime(issue.fields.customfield_11930, \"%Y-%m-%dT%H:%M:%S.%f%z\")\n",
    "                #custom_end_date = datetime.strptime(issue.fields.customfield_11931, \"%Y-%m-%dT%H:%M:%S.%f%z\")\n",
    "\n",
    "                writer.writerow([\n",
    "                    issue.key,\n",
    "                    tool_value,\n",
    "                    area_value,\n",
    "                    sprint_value,\n",
    "                    issue.fields.summary,\n",
    "                    issue.fields.status.name,\n",
    "                    issue.fields.assignee.displayName if issue.fields.assignee else 'Unassigned',\n",
    "                    issue.fields.reporter.displayName,\n",
    "                    created_date,\n",
    "                    updated_date,\n",
    "                    #issue.fields.customfield_11930, #custom_create_date\n",
    "                    #issue.fields.customfield_11931, #custom_end_date\n",
    "                    date_diff_days,\n",
    "                    issue.fields.priority.name if issue.fields.priority else 'None',\n",
    "                    issue.fields.issuetype.name,\n",
    "                    #issue.fields.labels if issue.fields.labels else '',\n",
    "                    #'\\n'.join([comment.body for comment in issue.fields.comment.comments]) if issue.fields.comment.comments else '',\n",
    "                ])\n",
    "            block_num += 1\n",
    "\n",
    "df = pd.read_csv('./jira_issues.csv')\n",
    "no_of_rows = df['key'].count()\n",
    "print(f\"{no_of_rows} tickets were created and written in jira_issues.csv\")"
   ]
  },
  {
   "cell_type": "markdown",
   "metadata": {},
   "source": [
    "## Counting values\n",
    "\n",
    "Counting how many single values have for the entire csv, for all the column that I want to anonymize"
   ]
  },
  {
   "cell_type": "code",
   "execution_count": 6,
   "metadata": {},
   "outputs": [
    {
     "name": "stdout",
     "output_type": "stream",
     "text": [
      "Count distinti per ogni colonna:\n",
      "tool_value    10\n",
      "area          16\n",
      "assignee       8\n",
      "reporter      15\n",
      "dtype: int64\n"
     ]
    }
   ],
   "source": [
    "interested_columns = ['tool_value', 'area', 'assignee','reporter',]\n",
    "df = pd.read_csv('./jira_issues.csv',usecols=interested_columns)\n",
    "\n",
    "distinct_counts = df[interested_columns].nunique()\n",
    "\n",
    "# Stampare i risultati\n",
    "print(\"Count distinti per ogni colonna:\")\n",
    "print(distinct_counts)"
   ]
  },
  {
   "cell_type": "markdown",
   "metadata": {},
   "source": [
    "## Anonymizing data\n",
    "\n",
    "### Assignee names:"
   ]
  },
  {
   "cell_type": "code",
   "execution_count": 12,
   "metadata": {},
   "outputs": [
    {
     "name": "stdout",
     "output_type": "stream",
     "text": [
      "0        Jennifer Jones\n",
      "1         Jessica Lloyd\n",
      "2        Jennifer Jones\n",
      "3         Jessica Lloyd\n",
      "4        Jennifer Jones\n",
      "             ...       \n",
      "1376     Andrew Jackson\n",
      "1377     Andrew Jackson\n",
      "1378     Andrew Jackson\n",
      "1379      Jessica Lloyd\n",
      "1380    Brandi Anderson\n",
      "Name: anonymized_assignee, Length: 1381, dtype: object\n"
     ]
    }
   ],
   "source": [
    "import random\n",
    "from faker import Faker\n",
    "\n",
    "# Leggi il file CSV dei problemi Jira\n",
    "#df = pd.read_csv('./jira_issues.csv')\n",
    "\n",
    "# Inizializza il generatore di nomi casuali\n",
    "faker = Faker()\n",
    "\n",
    "# Dizionario per memorizzare la corrispondenza tra nomi originali e anonimizzati\n",
    "name_dictionary = {}\n",
    "\n",
    "# Funzione per anonimizzare un nome\n",
    "def anonymize_name(name):\n",
    "    if name not in name_dictionary:\n",
    "        # Genera un nuovo nome anonimo se non è già stato anonimizzato\n",
    "        anonymized_name = faker.name()\n",
    "        name_dictionary[name] = anonymized_name\n",
    "    return name_dictionary[name]\n",
    "\n",
    "# Applicare la funzione di anonimizzazione alla colonna 'assignee'\n",
    "df['anonymized_assignee'] = df['assignee'].apply(anonymize_name)\n",
    "\n",
    "print(df['anonymized_assignee'])"
   ]
  },
  {
   "cell_type": "markdown",
   "metadata": {},
   "source": [
    "### Tools names:"
   ]
  },
  {
   "cell_type": "code",
   "execution_count": 9,
   "metadata": {},
   "outputs": [
    {
     "name": "stdout",
     "output_type": "stream",
     "text": [
      "0       Tool E\n",
      "1       Tool D\n",
      "2       Tool A\n",
      "3       Tool E\n",
      "4       Tool E\n",
      "         ...  \n",
      "1376    Tool B\n",
      "1377    Tool B\n",
      "1378    Tool B\n",
      "1379    Tool A\n",
      "1380    Tool B\n",
      "Name: anonymized_tool, Length: 1381, dtype: object\n"
     ]
    }
   ],
   "source": [
    "# Esempio di lista di nomi da anonimizzare per i tool\n",
    "anonymize_tool_list = [\n",
    "    \"Tool A\", \n",
    "    \"Tool B\", \n",
    "    \"Tool C\",\n",
    "    \"Tool D\", \n",
    "    \"Tool E\", \n",
    "    \"Tool F\",\n",
    "]\n",
    "\n",
    "# Dizionario per memorizzare le corrispondenze tra nomi originali e anonimizzati per i tool\n",
    "tool_dictionary = {}\n",
    "\n",
    "# Funzione per anonimizzare un tool\n",
    "def anonymize_tool(tool):\n",
    "    if tool not in tool_dictionary:\n",
    "        # Seleziona un nome anonimizzato dalla lista in modo casuale\n",
    "        anonymized_tool = random.choice(anonymize_tool_list)\n",
    "        tool_dictionary[tool] = anonymized_tool\n",
    "    return tool_dictionary[tool]\n",
    "\n",
    "# Applicare la funzione di anonimizzazione ai tool\n",
    "df['anonymized_tool'] = df['tool_value'].apply(anonymize_tool)\n",
    "\n",
    "# Visualizza il DataFrame con le colonne 'assignee_anonymized' e 'anonymized_tool'\n",
    "print(df['anonymized_tool'])"
   ]
  },
  {
   "cell_type": "markdown",
   "metadata": {},
   "source": [
    "### Area:"
   ]
  },
  {
   "cell_type": "code",
   "execution_count": 10,
   "metadata": {},
   "outputs": [
    {
     "name": "stdout",
     "output_type": "stream",
     "text": [
      "0                     Finance\n",
      "1          Strategic Planning\n",
      "2       Business Intelligence\n",
      "3                   Marketing\n",
      "4                     Finance\n",
      "                ...          \n",
      "1376                  Finance\n",
      "1377                  Finance\n",
      "1378                  Finance\n",
      "1379                  Finance\n",
      "1380                  Finance\n",
      "Name: anonymized_area, Length: 1381, dtype: object\n"
     ]
    }
   ],
   "source": [
    "# Esempio di lista di nomi da anonimizzare per i tool\n",
    "anonymize_area_list = [\n",
    "    \"Marketing\",\n",
    "    \"Sales\",\n",
    "    \"Finance\",\n",
    "    \"Human Resources\",\n",
    "    \"Production\",\n",
    "    \"Logistics\",\n",
    "    \"Research and Development\",\n",
    "    \"Customer Service\",\n",
    "    \"Project Management\",\n",
    "    \"Information Technology (IT)\",\n",
    "    \"Quality Assurance\",\n",
    "    \"Data Governance\",\n",
    "    \"Strategic Planning\",\n",
    "    \"Compliance and Regulation\",\n",
    "    \"Innovation and Sustainability\",\n",
    "    \"Business Intelligence\"\n",
    "]\n",
    "\n",
    "# Dizionario per memorizzare le corrispondenze tra nomi originali e anonimizzati per i tool\n",
    "area_dictionary = {}\n",
    "\n",
    "# Funzione per anonimizzare un tool\n",
    "def anonymize_area(area):\n",
    "    if area not in area_dictionary:\n",
    "        # Seleziona un nome anonimizzato dalla lista in modo casuale\n",
    "        anonymized_area = random.choice(anonymize_area_list)\n",
    "        area_dictionary[area] = anonymized_area\n",
    "    return area_dictionary[area]\n",
    "\n",
    "# Applicare la funzione di anonimizzazione ai tool\n",
    "df['anonymized_area'] = df['area'].apply(anonymize_area)\n",
    "\n",
    "# Visualizza il DataFrame con le colonne 'assignee_anonymized' e 'anonymized_tool'\n",
    "print(df['anonymized_area'])"
   ]
  }
 ],
 "metadata": {
  "kernelspec": {
   "display_name": "base",
   "language": "python",
   "name": "python3"
  },
  "language_info": {
   "codemirror_mode": {
    "name": "ipython",
    "version": 3
   },
   "file_extension": ".py",
   "mimetype": "text/x-python",
   "name": "python",
   "nbconvert_exporter": "python",
   "pygments_lexer": "ipython3",
   "version": "3.11.5"
  }
 },
 "nbformat": 4,
 "nbformat_minor": 2
}
